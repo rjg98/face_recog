{
 "cells": [
  {
   "cell_type": "code",
   "execution_count": null,
   "metadata": {},
   "outputs": [],
   "source": [
    "import cv2\n",
    "k=0\n",
    "inside=0\n",
    "cap=cv2.VideoCapture(0)\n",
    "face_model=cv2.CascadeClassifier('haarcascade_frontalface_default.xml')\n",
    "m=0\n",
    "while True:\n",
    "    status,photo=cap.read()\n",
    "    face_cor=face_model.detectMultiScale(photo)\n",
    "    if len(face_cor)==0:\n",
    "        pass\n",
    "    \n",
    "    else:\n",
    "        a=len(face_cor)\n",
    "        font = cv2.FONT_HERSHEY_SIMPLEX\n",
    "        bottomLeftCornerOfText = (0,30)\n",
    "        fontScale         = 1\n",
    "        fontColor              = (255,255,255)\n",
    "        lineType               = 2\n",
    "        \n",
    "        cv2.putText(photo,str(a),bottomLeftCornerOfText, font, fontScale,   fontColor,lineType)\n",
    "        \n",
    "        import math\n",
    "        \n",
    "        m=(m+a)/2\n",
    "        m=math.ceil(m)\n",
    "                    \n",
    "        \n",
    "        \n",
    "        if cv2.waitKey(50)==13:\n",
    "            break\n",
    "        \n",
    "        a=a-1\n",
    "        while(a!=-1):\n",
    "            \n",
    "            photo=cv2.rectangle(photo,(face_cor[a][0],face_cor[a][1]),(face_cor[a][0]+face_cor[a][2],face_cor[a][1]+face_cor[a,3]),[0,255,0],3)\n",
    "            cv2.imshow('hi',photo)\n",
    "            a-=1    \n",
    "        \n",
    "inside=inside+k\n",
    "cv2.destroyAllWindows()\n",
    "cap.release()\n",
    "a"
   ]
  },
  {
   "cell_type": "code",
   "execution_count": null,
   "metadata": {},
   "outputs": [],
   "source": [
    "cap.release()"
   ]
  },
  {
   "cell_type": "code",
   "execution_count": null,
   "metadata": {},
   "outputs": [],
   "source": [
    "m"
   ]
  },
  {
   "cell_type": "code",
   "execution_count": null,
   "metadata": {},
   "outputs": [],
   "source": []
  },
  {
   "cell_type": "code",
   "execution_count": null,
   "metadata": {},
   "outputs": [],
   "source": []
  },
  {
   "cell_type": "code",
   "execution_count": null,
   "metadata": {},
   "outputs": [],
   "source": []
  }
 ],
 "metadata": {
  "kernelspec": {
   "display_name": "Python 3",
   "language": "python",
   "name": "python3"
  },
  "language_info": {
   "codemirror_mode": {
    "name": "ipython",
    "version": 3
   },
   "file_extension": ".py",
   "mimetype": "text/x-python",
   "name": "python",
   "nbconvert_exporter": "python",
   "pygments_lexer": "ipython3",
   "version": "3.7.7"
  }
 },
 "nbformat": 4,
 "nbformat_minor": 4
}
