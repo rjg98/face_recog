{
 "cells": [
  {
   "cell_type": "code",
   "execution_count": 1,
   "metadata": {},
   "outputs": [
    {
     "name": "stderr",
     "output_type": "stream",
     "text": [
      "Using TensorFlow backend.\n"
     ]
    }
   ],
   "source": [
    "from keras.models import load_model\n",
    "classifier = load_model('FACE.h5')\n"
   ]
  },
  {
   "cell_type": "code",
   "execution_count": 2,
   "metadata": {},
   "outputs": [],
   "source": [
    "from keras.preprocessing import image\n",
    "from keras.preprocessing import image"
   ]
  },
  {
   "cell_type": "code",
   "execution_count": 3,
   "metadata": {},
   "outputs": [],
   "source": [
    "import cv2\n",
    "import numpy as np\n",
    "\n",
    "cap=cv2.VideoCapture(0)\n",
    "face_model=cv2.CascadeClassifier('haarcascade_frontalface_default.xml')\n"
   ]
  },
  {
   "cell_type": "code",
   "execution_count": 4,
   "metadata": {},
   "outputs": [],
   "source": [
    "while True:\n",
    "    status,photo=cap.read()\n",
    "    face_cor=face_model.detectMultiScale(photo)\n",
    "    img=cv2.resize(photo,(224,224))\n",
    "    ae = np.expand_dims(img, axis=0)\n",
    "    a=''\n",
    "    b=''\n",
    "    c=''\n",
    "    \n",
    "    result = np.argmax(classifier.predict(ae, 1, verbose = 0), axis=1)\n",
    "    if result[0]==0:\n",
    "          a=\"chiya\"\n",
    "    if result[0]==1:\n",
    "          b=\"raj\"\n",
    "    if result[0]==2:\n",
    "          c=\"rajat\"    \n",
    "    if len(face_cor)==0:\n",
    "        pass\n",
    "    \n",
    "    if len(face_cor)!=0:\n",
    "        l=len(face_cor)\n",
    "        font = cv2.FONT_HERSHEY_SIMPLEX\n",
    "        bottomLeftCornerOfText = (0,30)\n",
    "        fontScale         = 1\n",
    "        fontColor              = (255,255,255)\n",
    "        lineType               = 2\n",
    "        \n",
    "        cv2.putText(photo,a+b+c,bottomLeftCornerOfText, font, fontScale,   fontColor,lineType)\n",
    "        \n",
    "        \n",
    "                    \n",
    "        \n",
    "        \n",
    "        if cv2.waitKey(50)==13:\n",
    "            break\n",
    "        \n",
    "        l=l-1\n",
    "        while(l!=-1):\n",
    "            \n",
    "            photo=cv2.rectangle(photo,(face_cor[l][0],face_cor[l][1]),(face_cor[l][0]+face_cor[l][2],face_cor[l][1]+face_cor[l,3]),[0,255,0],3)\n",
    "            cv2.imshow('hi',photo)\n",
    "            l-=1    \n",
    "        \n",
    "\n",
    "cv2.destroyAllWindows()\n",
    "cap.release()\n"
   ]
  },
  {
   "cell_type": "code",
   "execution_count": null,
   "metadata": {},
   "outputs": [],
   "source": []
  },
  {
   "cell_type": "code",
   "execution_count": null,
   "metadata": {},
   "outputs": [],
   "source": []
  }
 ],
 "metadata": {
  "kernelspec": {
   "display_name": "Python 3",
   "language": "python",
   "name": "python3"
  },
  "language_info": {
   "codemirror_mode": {
    "name": "ipython",
    "version": 3
   },
   "file_extension": ".py",
   "mimetype": "text/x-python",
   "name": "python",
   "nbconvert_exporter": "python",
   "pygments_lexer": "ipython3",
   "version": "3.7.7"
  }
 },
 "nbformat": 4,
 "nbformat_minor": 4
}
